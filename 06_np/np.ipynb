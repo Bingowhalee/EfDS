{
 "cells": [
  {
   "metadata": {},
   "cell_type": "markdown",
   "source": [
    "## NumPy\n",
    "\n",
    "[NumPy](https://numpy.org) (numerical python) forms the base in many Python libraries in different scientific fields because of its high performance implementation of multidimensional array called *ndarray*. NumPy features include:\n",
    "\n",
    "- Vectorisation : array operations are applied to the entire array without python-level loops\n",
    "- Memory : its own memory block independent of python's type checking and overhead\n",
    "- Random number generation and distributions\n",
    "- Linear algebra\n",
    "- C API:  c-based user-defined and optimised algorithms\n",
    "- etc.\n",
    "\n",
    " NumPy is a comprehensive Python library. The [API reference](https://numpy.org/doc/stable/reference/index.html) documents different categories of functions and attributes going beyond the scope of this course, so please treat it as a reference."
   ],
   "id": "8b80aaa92f1dfb27"
  },
  {
   "metadata": {
    "ExecuteTime": {
     "end_time": "2025-03-08T18:36:42.320428Z",
     "start_time": "2025-03-08T18:36:42.318057Z"
    }
   },
   "cell_type": "code",
   "source": "import numpy as np",
   "id": "70647dbb391e5cb1",
   "outputs": [],
   "execution_count": 2
  },
  {
   "metadata": {},
   "cell_type": "markdown",
   "source": [
    "## Outline\n",
    "\n",
    "- N-dimensional array : `ndarray`\n",
    "- Arithmetic operations\n",
    "- Broadcasting\n",
    "- Indexing\n",
    "- Combine arrays\n",
    "- Numpy functions and array methods"
   ],
   "id": "eab2cddd04ac3e82"
  },
  {
   "metadata": {},
   "cell_type": "markdown",
   "source": [
    "## ndarray class\n",
    "\n",
    "The main data structure of numpy is *ndarray*, a multidimensional array of homogeneous data (single type).\n",
    "\n",
    "<br>\n",
    "\n",
    "```\n",
    "                 axis-0\n",
    "           ------------------>\n",
    "           -------------------\n",
    "           |  0  |  1  |  2  |             1-dimensional array\n",
    "           -------------------\n",
    "\n",
    "                 axis-1\n",
    "           ------------------>\n",
    "           -------------------\n",
    "         | | 0,0 | 0,1 | 0,2 |\n",
    " axis-0  | | 1,0 | 1,1 | 1,2 |             2-dimensional array\n",
    "         | | 2,0 | 2,1 | 2,2 |\n",
    "           -------------------\n",
    "\n",
    "\n",
    "```\n",
    "\n",
    "The layout of the n-dimensional array with $n>2$ on the screen may be daunting. You may skip viewing the data and refer to the data attributes such as *shape*, *ndim* and *dtype*. However, if you do want to inspect the data then the rule is: peel off square brackets from lower dimensions towards higher dimensions deep within. For example the 3-dimensional array of shape (1,3,4) has:\n",
    "<br>\n",
    "\n",
    " ```\n",
    " [                      # 1st dimension with size=1\n",
    "  [                     # 2nd dimension with size=3\n",
    "    [0., 0., 0., 0.],   # 3rd dimension with size=4\n",
    "    [0., 0., 0., 0.],   # 3rd ...\n",
    "    [0., 0., 0., 0.]    # 3rd ...\n",
    "  ]\n",
    "]\n",
    " ```\n",
    "\n",
    "\n",
    "### np.array\n",
    "\n",
    "The NumPy function *array* is used to create an array:\n",
    "\n",
    "**Synopsis:**    <tt>array(object, dtype=None)</tt>\n",
    "\n",
    "where object is any (nested) sequence, e.g. list, tuples. The type is automatically determined if not provided explicitly, however you may force the type by setting *dtype* argument. Below is a summary of possible types:\n",
    "<br>\n",
    "\n",
    "```\n",
    "    integers : {i|u}{1|2|4|8}   ;  Where i and u represent signed and unsigned integer.\n",
    "    floats   : {f}[{2,4,8}] | d ;  Where 2,4,8 represent half,single and double precision.\n",
    "                                   f and d alone stand for single and double precision\n",
    "                                   respectively.\n",
    "    boolean  : ? | bool\n",
    "    object   : O | object\n",
    "```"
   ],
   "id": "697f25885ddcf138"
  },
  {
   "metadata": {},
   "cell_type": "markdown",
   "source": "**Examples:**",
   "id": "148d15bc9165997e"
  },
  {
   "metadata": {},
   "cell_type": "code",
   "outputs": [],
   "execution_count": null,
   "source": [
    "# 1D\n",
    "arr1d = [[1,2,3], range(1,4), (1,2,3)]\n",
    "[np.array(arr) for arr in arr1d]\n",
    "\n",
    "# 2D\n",
    "arr2d = [ [[1,2,3],[4,5,6]],          # list of lists\n",
    "          [range(1,4), range(4,7)],   # list of ranges\n",
    "          ((1,2,3),(4,5,6))           # tuple of tuples\n",
    "          ]\n",
    "[np.array(arr) for arr in arr2d]\n",
    "\n",
    "# reshape, zeros, ones, empty\n",
    "np.array([0,2,1,6]).reshape((2,2)) # 2-dimensional array\n",
    "np.zeros(shape=(1,3,4))      # 3-dimensional array filled with 0's\n",
    "np.ones(shape=(1,3,4))       # 3-dimensional array filled with 1's"
   ],
   "id": "a9a98e7f94e48a54"
  },
  {
   "metadata": {},
   "cell_type": "markdown",
   "source": [
    "### Sequences\n",
    "\n",
    "We have already encountered some use-cases of python `range`. There is a similar function `arange` in Numpy, the difference is that python `range` returns an instance of the class *range* whereas `arange` returns `ndarray`."
   ],
   "id": "c97cf1a1a3def4de"
  },
  {
   "metadata": {},
   "cell_type": "code",
   "outputs": [],
   "execution_count": null,
   "source": [
    "np.arange(10)                    # 0..9 of  ; type int64\n",
    "np.arange(0, 10, dtype=np.int8)  # 0..9 of  ; type int8\n",
    "np.arange(0., 10)                # 0.0..9.0 ; type float64\n",
    "np.arange(0, 10, dtype=\"f2\")     # 0..9 of  ; type float16\n",
    "np.arange(0, 10)                 # 0..9 of  ; type int64\n",
    "np.arange(0, 10, 3)              # 0,3,6,9  ; type int64"
   ],
   "id": "47961ce597b8d10e"
  },
  {
   "metadata": {},
   "cell_type": "markdown",
   "source": "### numpy.repeat / numpy.tile",
   "id": "fc648eb30afd2546"
  },
  {
   "metadata": {
    "ExecuteTime": {
     "end_time": "2025-03-08T13:41:20.680858Z",
     "start_time": "2025-03-08T13:41:20.678095Z"
    }
   },
   "cell_type": "code",
   "source": [
    "np.repeat(np.array([0,1,2]),3)\n",
    "np.tile(np.array([0,1,2]),3)"
   ],
   "id": "deb322b4506e12dc",
   "outputs": [
    {
     "data": {
      "text/plain": [
       "array([0, 1, 2, 0, 1, 2, 0, 1, 2])"
      ]
     },
     "execution_count": 45,
     "metadata": {},
     "output_type": "execute_result"
    }
   ],
   "execution_count": 45
  },
  {
   "metadata": {},
   "cell_type": "markdown",
   "source": [
    "### Inspect ndarray\n",
    "\n",
    "Basic attributes to inspect an array are `ndim`, `shape`, `dtype`, `size`:"
   ],
   "id": "7bdaeb744bdd9b4a"
  },
  {
   "metadata": {},
   "cell_type": "code",
   "outputs": [],
   "execution_count": null,
   "source": [
    "arr = np.arange(8).reshape(2,2,2)\n",
    "arr.ndim, arr.shape, arr.dtype, arr.size"
   ],
   "id": "b53cfcc19e33d65"
  },
  {
   "metadata": {},
   "cell_type": "markdown",
   "source": [
    "### Basic aggregate functions\n",
    "\n",
    "Here is a table of aggregate functions available in the NumPy (`np`) module, which can be applied to `ndarray` objects:\n",
    "\n",
    "| **Function**       | **Description**                                                                 |\n",
    "|--------------------|---------------------------------------------------------------------------------|\n",
    "| `np.sum`           | Calculates the sum of array elements.                                          |\n",
    "| `np.min`           | Finds the minimum value in the array.                                          |\n",
    "| `np.max`           | Finds the maximum value in the array.                                          |\n",
    "| `np.mean`          | Computes the mean (average) of the array elements.                             |\n",
    "| `np.average`       | Computes the weighted average of the array elements.                           |\n",
    "| `np.prod`          | Calculates the product of array elements.                                      |\n",
    "| `np.median`        | Finds the median value in the array.                                           |\n",
    "| `np.std`           | Computes the standard deviation of the array elements.                         |\n",
    "| `np.var`           | Computes the variance of the array elements.                                   |\n",
    "| `np.argmin`        | Returns the index of the minimum value in the array.                           |\n",
    "| `np.argmax`        | Returns the index of the maximum value in the array.                           |\n",
    "\n",
    "\n",
    "**Argument axis={0,1}** in 2d case:\n",
    "\n",
    "- `axis=0`: Aggregate along the rows (i.e., operate **down a column**). The result is computed column-wise.\n",
    "- `axis=1`: Aggregate along the columns (i.e., operate **across a row**). The result is computed row-wise.\n",
    "- `axis=None` (default): Aggregate over **all elements** in the array.\n",
    "\n",
    "With dimensions $>2$, with axis $j$ aggregate along the $j_{th}$ dimension.\n",
    "\n",
    "Most of the functions are also available as ndarray functions. For example take the `mean` function:"
   ],
   "id": "60471a90d49b5d85"
  },
  {
   "metadata": {},
   "cell_type": "code",
   "outputs": [],
   "execution_count": null,
   "source": [
    "arr = np.array([3,7,3,1,8,5])\n",
    "arr.mean(), np.mean(arr)"
   ],
   "id": "ba02df81a7bb598a"
  },
  {
   "metadata": {},
   "cell_type": "markdown",
   "source": "In addition, NumPy functions give you control with the axis argument to decide the direction of calculation. Take the function mean:",
   "id": "8055372dec0da4b0"
  },
  {
   "metadata": {
    "ExecuteTime": {
     "end_time": "2025-03-08T15:03:52.656353Z",
     "start_time": "2025-03-08T15:03:52.653466Z"
    }
   },
   "cell_type": "code",
   "source": [
    "#\n",
    "rng = np.random.default_rng(12345)\n",
    "arr2d = rng.integers(0,10,2*2).reshape(2,2)\n",
    "arr2d"
   ],
   "id": "d88740760425fcd4",
   "outputs": [
    {
     "data": {
      "text/plain": [
       "array([[6, 2],\n",
       "       [7, 3]])"
      ]
     },
     "execution_count": 90,
     "metadata": {},
     "output_type": "execute_result"
    }
   ],
   "execution_count": 90
  },
  {
   "metadata": {
    "ExecuteTime": {
     "end_time": "2025-03-08T15:04:05.435051Z",
     "start_time": "2025-03-08T15:04:05.432198Z"
    }
   },
   "cell_type": "code",
   "source": [
    "np.mean(arr2d)         # total mean\n",
    "np.mean(arr2d, axis=0) # mean along the 0-axis (1st dimension)\n",
    "np.mean(arr2d, axis=1) # mean along the 1-axis (2nd dimension)"
   ],
   "id": "655aef84c0aa10f5",
   "outputs": [
    {
     "data": {
      "text/plain": [
       "array([4., 5.])"
      ]
     },
     "execution_count": 92,
     "metadata": {},
     "output_type": "execute_result"
    }
   ],
   "execution_count": 92
  },
  {
   "metadata": {},
   "cell_type": "markdown",
   "source": "**Boolean** Two common boolean aggregate functions are `all` and `any`, testing whether all or any of the values are True respectively. For example, take the array below, we want to know whether there are values above a certain threshold, say 50:",
   "id": "38334cdd8315398f"
  },
  {
   "metadata": {
    "ExecuteTime": {
     "end_time": "2025-03-08T15:08:29.618509Z",
     "start_time": "2025-03-08T15:08:29.615150Z"
    }
   },
   "cell_type": "code",
   "source": [
    "arr1d = rng.integers(0,99,50) #\n",
    "(arr1d > 50).any()           # Are there any values >50?\n",
    "(arr1d > 50).all()            # Are all values >50?"
   ],
   "id": "e199b7513c5537c4",
   "outputs": [
    {
     "data": {
      "text/plain": [
       "np.True_"
      ]
     },
     "execution_count": 99,
     "metadata": {},
     "output_type": "execute_result"
    }
   ],
   "execution_count": 99
  },
  {
   "metadata": {},
   "cell_type": "markdown",
   "source": "The aggregate function `sum` can consume boolean arrays and produce the total number of truth values:",
   "id": "323acbd076fa2cdd"
  },
  {
   "metadata": {},
   "cell_type": "code",
   "outputs": [],
   "execution_count": null,
   "source": "(arr1d > 50).sum()           # How many values >50",
   "id": "3f69a58dc246f916"
  },
  {
   "metadata": {},
   "cell_type": "markdown",
   "source": "Some functions such as `median`, `percentile` and `quantile` are only available at NumPy module level due to their complexity. Most `ndarray` functions are wel-optimised at low-level whereas complex functions such as `median` having sorting as part of the algorithm do not lend themselves to the philosophy behind `ndarray`.",
   "id": "c4093f1a50585881"
  },
  {
   "metadata": {},
   "cell_type": "code",
   "outputs": [],
   "execution_count": null,
   "source": [
    "arr = np.arange(10)\n",
    "np.median(arr), np.percentile(arr, 50), np.quantile(arr, 0.5)"
   ],
   "id": "845bc34d994e053f"
  },
  {
   "metadata": {},
   "cell_type": "markdown",
   "source": [
    "## Arithmetic operations\n",
    "\n",
    "Arithmetic operations between numpy arrays are vectorised, meaning that given arrays with the same shape the operation is carried out element-wise. Similarly, operations between a numpy array and a scalar are also vectorised."
   ],
   "id": "e6fae53734e09494"
  },
  {
   "metadata": {},
   "cell_type": "code",
   "outputs": [],
   "execution_count": null,
   "source": [
    "# array and scalar\n",
    "np.arange(5) + 10 # add 10 to each element in the array\n",
    "np.arange(5) ** 2 # raise all values in range 0..4 to the power of 2"
   ],
   "id": "a195dbec646882fb"
  },
  {
   "metadata": {},
   "cell_type": "code",
   "outputs": [],
   "execution_count": null,
   "source": [
    "# element-wise\n",
    "np.array([4,3,2,1,0]) + np.array([0,1,2,3,4])\n",
    "np.array([4,3,2,1,0]) * np.array([0,1,2,3,4])\n"
   ],
   "id": "7b94f386c43bade8"
  },
  {
   "metadata": {},
   "cell_type": "code",
   "outputs": [],
   "execution_count": null,
   "source": [
    "# NumPy functions vectorized\n",
    "np.sqrt( np.square(np.arange(8).reshape(4,2))) # the square-root of square\n",
    "np.abs(np.array([-1,2,-3])) # absolute value: |x|"
   ],
   "id": "e80a265573cbf3ad"
  },
  {
   "metadata": {},
   "cell_type": "markdown",
   "source": "**Broadcasting** enables carrying out operations between arrays with different shapes:\n",
   "id": "26746e26b34ddb48"
  },
  {
   "metadata": {
    "ExecuteTime": {
     "end_time": "2025-03-08T14:02:53.023326Z",
     "start_time": "2025-03-08T14:02:53.020508Z"
    }
   },
   "cell_type": "code",
   "source": [
    "arr1d = np.array([2,2,2,2])\n",
    "arr2d = np.arange(8).reshape(2,4)\n",
    "arr1d + arr2d"
   ],
   "id": "92690ea8c6c27bdf",
   "outputs": [
    {
     "data": {
      "text/plain": [
       "array([[2, 3, 4, 5],\n",
       "       [6, 7, 8, 9]])"
      ]
     },
     "execution_count": 76,
     "metadata": {},
     "output_type": "execute_result"
    }
   ],
   "execution_count": 76
  },
  {
   "metadata": {},
   "cell_type": "markdown",
   "source": [
    "Array are compatible for broadcast if corresponding dimensions (aligned from high to low dimension) of both arrays have the same size or at least one has size=1. Example above:\n",
    "\n",
    "```\n",
    "arr2d : 2, 4\n",
    "arr1d : 1, 4\n",
    "```\n",
    "\n",
    "**Broadcasting rules:**\n",
    "\n",
    "- If number of dimensions are unequal then prepend ones to the shape of the smaller array.\n",
    "- The sizes of the arrays along each dimension must either be equal or one of them must be 1.\n",
    "- The resulting shape is the maximum size along each dimension from the input arrays\n"
   ],
   "id": "54c16d7fbec714a3"
  },
  {
   "metadata": {},
   "cell_type": "markdown",
   "source": [
    "#### C or Fortran order\n",
    "\n",
    "Two ways to fill an `ndarray` with values:\n",
    "\n",
    "- 'C' (row-wise) the values are filled along the last axis (default)\n",
    "- 'F' (column-wise) the values filled from first axis first to the last axis."
   ],
   "id": "9c2d04bc4c659aff"
  },
  {
   "metadata": {},
   "cell_type": "code",
   "outputs": [],
   "execution_count": null,
   "source": [
    "arr2c = np.arange(4).reshape((2,2),order='C') # row-wise (default)\n",
    "arr2f = np.arange(4).reshape((2,2),order='F') # column-wise"
   ],
   "id": "f8005f5f3385c048"
  },
  {
   "metadata": {},
   "cell_type": "markdown",
   "source": [
    "`order='C'`:\n",
    "\n",
    "```\n",
    "[...]\n",
    "```\n",
    "\n",
    "`order='F'`:\n",
    "\n",
    "```\n",
    "[...]\n",
    "```"
   ],
   "id": "fb5d1284e73780f6"
  },
  {
   "metadata": {},
   "cell_type": "markdown",
   "source": "**Multiple assignments**",
   "id": "b8e107481bf58af3"
  },
  {
   "metadata": {
    "ExecuteTime": {
     "end_time": "2025-03-08T14:12:48.550637Z",
     "start_time": "2025-03-08T14:12:48.546707Z"
    }
   },
   "cell_type": "code",
   "outputs": [
    {
     "data": {
      "text/plain": [
       "array([[[0, 1],\n",
       "        [2, 3]],\n",
       "\n",
       "       [[4, 5],\n",
       "        [6, 7]]])"
      ]
     },
     "execution_count": 78,
     "metadata": {},
     "output_type": "execute_result"
    }
   ],
   "execution_count": 78,
   "source": [
    "arr3d = np.arange(8).reshape((2,2,2)) # 3-dimensional array\n",
    "arr3d"
   ],
   "id": "eba213dfe98a3d05"
  },
  {
   "metadata": {},
   "cell_type": "code",
   "outputs": [],
   "execution_count": null,
   "source": [
    "# systematically access subsets\n",
    "plane0, plane1 = arr3d\n",
    "vec0, vec1 = plane0\n",
    "vec2, vec3 = plane1\n",
    "# shortcut: layout the structure\n",
    "[[v0,v1],[v2,v3]] = arr3d"
   ],
   "id": "4aeee903d723cde3"
  },
  {
   "metadata": {},
   "cell_type": "markdown",
   "source": "**Matrix operations**",
   "id": "72af807e4ff82dd9"
  },
  {
   "metadata": {},
   "cell_type": "code",
   "source": [
    "m1 = np.array([[1, 2], [3, 4]])\n",
    "m2 = np.array([[5, 6], [7, 8]])\n",
    "# element-wise operations\n",
    "m1 + m2 # as well as {-,*,/}\n",
    "# matrix multiplication\n",
    "np.dot(m1, m2)\n",
    "m1 @ m2\n",
    "# Transpose\n",
    "m1.T\n",
    "# Flatten\n",
    "m1.flatten() # copy\n",
    "m1.ravel()   # view"
   ],
   "id": "5e3564c12429fc8f",
   "outputs": [],
   "execution_count": null
  },
  {
   "metadata": {},
   "cell_type": "markdown",
   "source": [
    "## Exercise\n",
    "\n",
    "### Create arrays\n",
    "\n",
    "- 1-dimensional array over the range 11, 14, 17, 20, ..., 50. In addition show the type, size, shape and number of dimensions of the array.\n",
    "- 2-dimensional array of boolean type with shape=(5,3) and all set to False.\n",
    "- 2-dimensional array of shape=(9,3) of the alphabet a..z.\n",
    "- The two 3-dimensional arrays are filled with identical data but different orders. Without running the code predict the layout of the array.\n",
    "\n",
    "```Python\n",
    "arr_c = np.array([ 5,  9, 16, 12,  3, 14, 11, 13]).reshape((2,2,2), order='C')\n",
    "arr_f = np.array([ 5,  9, 16, 12,  3, 14, 11, 13]).reshape((2,2,2), order='F')\n",
    "```\n",
    "`order='C'`:\n",
    "\n",
    "```\n",
    "[...]\n",
    "```\n",
    "\n",
    "`order='F'`:\n",
    "\n",
    "```\n",
    "[...]\n",
    "```\n",
    "\n",
    "### Array indices\n",
    "\n",
    "- Given the 2-dimensional array *arr2d* below, fetch the following elements fetch:\n",
    "    - single elements:  'e', 'g'\n",
    "    - [e,f]\n",
    "    - [h,e,b]\n",
    "    - [h,i]\n",
    "    - [d,b,f,h]\n",
    "\n",
    "```Python\n",
    "arr2d = np.array(list(\"abcdefghi\")).reshape(3,3)\n",
    "arr3d = np.arange(3*3*3).reshape(3,3,3)\n",
    "```\n",
    "\n",
    "- Given the 3-dimensional array arr3d:\n",
    "    - fetch:\n",
    "        - [[19,20],[22,23]]\n",
    "        - [[9,12,15],[11,14,17]]\n",
    "    - swap\n",
    "        - on axis-0 the 2nd and the 3rd elements\n",
    "        - the 1st and the 3rd element of all elements on axis-0\n",
    "        - repeat the previous swap but now only on the 1st element of axis-0\n",
    "- Make a copy of `arr3d` from previous exercise and set its odd values to -1.\n",
    "- Implement the function *identity_(n)* that generates the identity matrix of size *n*. You can check you results with the build-in `numpy.identity` function.\n",
    "- Create the array [5, 5, 5, 3, 3, 3, 5, 7, 5, 7, 5, 7] (ref: numpy.repeat, numpy.tile)\n",
    "- Create a (8,8) two-dimensional array to represent a chessboard filled with 0 and 1 representing black and white squares respectively. Make sure the orientation is correct with leading diagonal set to white.\n",
    "- Implement the following function `grid_x` based on the description below. Make use of numpy functions and vectorisation capability to avoid looping.\n",
    "\n",
    "```\n",
    "Generates a 2D grid of specified size (n x n) with an 'X' shape pattern\n",
    "represented by \"#\" symbols. All other cells in the grid are represented\n",
    "by \".\". The function will return (n x n) numpy.ndarray containing the X\n",
    "pattern.\n",
    "```"
   ],
   "id": "4685d319f09a08ac"
  },
  {
   "metadata": {},
   "cell_type": "markdown",
   "source": [
    "## Random number generation\n",
    "\n",
    "Numpy has `np.random` module has many functions for random number generation but they are superseded by [Random Generator](https://numpy.org/doc/stable/reference/random/generator.html). The `np.random.Generator` provides a more advanced and flexible random number generation functions than the legacy `np.random`. Below is a comparison:\n",
    "\n",
    "| **Legacy `np.random` (Global State)** | **Modern `np.random.Generator` (Recommended)** |\n",
    "|---------------------------------|----------------------------------|\n",
    "| `np.random.rand(d0, d1, …)` | `rng.random((d0, d1, …))` |\n",
    "| `np.random.randn(d0, d1, …)` | `rng.standard_normal((d0, d1, …))` |\n",
    "| `np.random.randint(low, high, size)` | `rng.integers(low, high, size)` |\n",
    "| `np.random.random(size)` | `rng.random(size)` |\n",
    "| `np.random.uniform(low, high, size)` | `rng.uniform(low, high, size)` |\n",
    "| `np.random.normal(loc, scale, size)` | `rng.normal(loc, scale, size)` |\n",
    "| `np.random.binomial(n, p, size)` | `rng.binomial(n, p, size)` |\n",
    "| `np.random.poisson(lam, size)` | `rng.poisson(lam, size)` |\n",
    "| `np.random.choice(a, size, replace)` | `rng.choice(a, size, replace)` |\n",
    "| `np.random.permutation(arr)` | `rng.permutation(arr)` |\n",
    "| `np.random.seed(seed)` | `rng = np.random.default_rng(seed)`|\n",
    "\n",
    "\n",
    "Major difference in terms of reproducibility:\n",
    "\n",
    "- `np.random` functions operate on a *global random state* (not recommended)."
   ],
   "id": "7ee8b49452dd75a3"
  },
  {
   "metadata": {
    "ExecuteTime": {
     "end_time": "2025-03-08T14:10:35.931663Z",
     "start_time": "2025-03-08T14:10:35.833385Z"
    }
   },
   "cell_type": "code",
   "source": [
    "# Example: plot distributions\n",
    "# Normal distribution: n=100, mean=0, sd=1\n",
    "#\n",
    "# np.random\n",
    "np.random.seed(12345)\n",
    "legacy = np.random.normal(loc=0.0, scale=1.0, size=100)\n",
    "# Generator\n",
    "rng = np.random.default_rng(12345)\n",
    "modern = rng.normal(loc=0.0, scale=1.0, size=100)\n",
    "\n",
    "# Plot histograms\n",
    "import seaborn as sns\n",
    "import matplotlib.pyplot as plt\n",
    "sns.histplot(legacy, label='modern',bins=20)\n",
    "sns.histplot(modern, label='modern',bins=20)\n",
    "plt.legend()\n",
    "plt.show()"
   ],
   "id": "49d6f2860a810f6",
   "outputs": [
    {
     "data": {
      "text/plain": [
       "<Figure size 640x480 with 1 Axes>"
      ],
      "image/png": "[encoded data removed]"
     },
     "metadata": {},
     "output_type": "display_data"
    }
   ],
   "execution_count": 77
  },
  {
   "metadata": {},
   "cell_type": "markdown",
   "source": [
    "## Indexing\n",
    "\n",
    "### Basic index\n",
    "\n",
    "Indexing 1-dimensional array is similar to python lists:\n"
   ],
   "id": "a1ed3c51af697f95"
  },
  {
   "metadata": {
    "ExecuteTime": {
     "end_time": "2025-03-08T14:21:15.199399Z",
     "start_time": "2025-03-08T14:21:15.195876Z"
    }
   },
   "cell_type": "code",
   "source": [
    "arr1 = np.arange(10)  # arr1 : 0..9\n",
    "arr1[3:8:2]           # fetch values from 3..8 in steps of 2"
   ],
   "id": "358138cdd0619fdb",
   "outputs": [
    {
     "data": {
      "text/plain": [
       "array([3, 5, 7])"
      ]
     },
     "execution_count": 80,
     "metadata": {},
     "output_type": "execute_result"
    }
   ],
   "execution_count": 80
  },
  {
   "metadata": {},
   "cell_type": "markdown",
   "source": [
    "> Views: One major difference between lists and arrays is that array slices are `views` of the original array and list slices are copied.\n",
    "\n",
    "To illustrate, the following creates arr2 array as a view to arr1 range. Any change to arr2 will change arr1 and any change in arr1 will be reflected in arr2:"
   ],
   "id": "56f30cfb528dc4bd"
  },
  {
   "metadata": {
    "ExecuteTime": {
     "end_time": "2025-03-08T14:22:35.976724Z",
     "start_time": "2025-03-08T14:22:35.972592Z"
    }
   },
   "cell_type": "code",
   "source": [
    "arr2 = arr1[0:5]  # arr2 : slice from  0 to 4th element\n",
    "arr2[2:] = 1234   # set arr2 values to 1234 over the range 2:\n",
    "arr1[0:2] = 4321  # changes in arr1 are reflected in arr2"
   ],
   "id": "a6405cfafb84df73",
   "outputs": [
    {
     "data": {
      "text/plain": [
       "array([4321, 4321, 1234, 1234, 1234,    5,    6,    7,    8,    9])"
      ]
     },
     "execution_count": 83,
     "metadata": {},
     "output_type": "execute_result"
    }
   ],
   "execution_count": 83
  },
  {
   "metadata": {},
   "cell_type": "markdown",
   "source": "If you prefer a copy instead of view use the method copy to create a new copy of the array slice:",
   "id": "3ed513094b65c28"
  },
  {
   "metadata": {},
   "cell_type": "code",
   "outputs": [],
   "execution_count": null,
   "source": "arr2 = arr1[0:5].copy() # changes to **arr2** will not propagate to **arr1**.",
   "id": "1797ff1383af101b"
  },
  {
   "metadata": {},
   "cell_type": "markdown",
   "source": [
    "> Slice [:] signifies the entire arrays.\n",
    "\n",
    "The following assignment is valid in arrays but not in lists:\n",
    "\n"
   ],
   "id": "c61430e51975ba38"
  },
  {
   "metadata": {},
   "cell_type": "code",
   "outputs": [],
   "execution_count": null,
   "source": [
    "arr1 = np.arange(10)  # arr1 : 0..9\n",
    "arr1[:] = 10          # set the entire array arr1 to value 10"
   ],
   "id": "5e4dc8f2f5d30a50"
  },
  {
   "metadata": {},
   "cell_type": "markdown",
   "source": "### Indexing in higher dimensions\n",
   "id": "494e2b4efd5782d5"
  },
  {
   "metadata": {
    "ExecuteTime": {
     "end_time": "2025-03-08T14:28:08.065622Z",
     "start_time": "2025-03-08T14:28:08.061224Z"
    }
   },
   "cell_type": "code",
   "source": [
    "arr3d = np.arange(8).reshape(2,2,2)\n",
    "arr3d"
   ],
   "id": "b7e09d09cbb6b098",
   "outputs": [
    {
     "data": {
      "text/plain": [
       "array([[[0, 1],\n",
       "        [2, 3]],\n",
       "\n",
       "       [[4, 5],\n",
       "        [6, 7]]])"
      ]
     },
     "execution_count": 84,
     "metadata": {},
     "output_type": "execute_result"
    }
   ],
   "execution_count": 84
  },
  {
   "metadata": {},
   "cell_type": "markdown",
   "source": [
    "Indexing in higher dimensions is done with square brackets and comma-separated indices over dimensions\n",
    "$d_1,\\cdots,d_j$ with  $1 < j \\leq n$. The results will be the dimensions $\\leq j$.\n",
    "\n",
    "In the example below only the first two axes 0 and 1 are considered:"
   ],
   "id": "c7ebcbabc9e729b8"
  },
  {
   "metadata": {},
   "cell_type": "code",
   "outputs": [],
   "execution_count": null,
   "source": [
    "arr3d[0]    # 0th element on axes 0\n",
    "arr3d[1,0]  # 1th element on axes 0, 0th element o"
   ],
   "id": "ae2e4258e74c5f0e"
  },
  {
   "metadata": {},
   "cell_type": "markdown",
   "source": "The above example arr3d[1,0] states: retrieve all values with indices (0,1) as their prefix, i.e. [0,1,0] and [0,1,1]:",
   "id": "f9b7fcb3b7d88246"
  },
  {
   "metadata": {},
   "cell_type": "code",
   "outputs": [],
   "execution_count": null,
   "source": "arr3d[0,1,0], arr3d[0,1,1]",
   "id": "5db4407620126d1f"
  },
  {
   "metadata": {},
   "cell_type": "markdown",
   "source": "Indexing with composition also works, but using comma-separated indices is more concise:",
   "id": "6fe94913f05d0f21"
  },
  {
   "metadata": {},
   "cell_type": "code",
   "outputs": [],
   "execution_count": null,
   "source": "arr3d[0][1] # composition : first retrieve arr3d[0] array and access index 1 ; <=> arr3d[0,1]",
   "id": "1aeb89236e260d6d"
  },
  {
   "metadata": {},
   "cell_type": "markdown",
   "source": [
    "Passing slices as indices in arrays with dimensions behaves in the similar way as basic indices. Below is a review of slices:\n",
    "\n",
    "\n",
    "| **slice** | **index**          |\n",
    "|-----------|--------------------|\n",
    "| `[:]`     | $0 .. (n-1)$       |\n",
    "| `[:i]`    | $0 .. (i-1)$       |\n",
    "| `[i:]`    | $i .. (n-1)$       |\n",
    "| `[i:j]`   | $i .. (j-1)$       |\n",
    "| `[i:j:k]` | $i\\times k.. j//k$ |\n",
    "| `[-i]`    | $n-i)$             |\n",
    "| `[-i:]`   | $(n-i) .. (n-1)$   |\n",
    "| `[:-i]`   | $0 .. (n-i)$       |\n",
    "| `[::-1]`  | $(n-1) .. 0$       |\n",
    "\n",
    "\n",
    "Slicing can be done over multiple dimensions with slices separated by comma:\n"
   ],
   "id": "cb2b2f0756861f1e"
  },
  {
   "metadata": {},
   "cell_type": "code",
   "outputs": [],
   "execution_count": null,
   "source": [
    "arr2d = np.arange(4*2).reshape(4,2)\n",
    "arr2d[:,:]     # fetch all, same as arr2d\n",
    "arr2d[2:,1]    # fetch 2: on axis-0 and 2nd on axis-1\n",
    "arr2d[[0,2],:] # fetch 1st and 3rd element on axis-0 and all on axis-1\n",
    "np.arange(4*2).reshape(4,2)[:,::-1] # reverse second dimension"
   ],
   "id": "6c37bb93c65bf51"
  },
  {
   "metadata": {},
   "cell_type": "markdown",
   "source": [
    "###  Boolean index (mask)\n",
    "\n",
    "Comparing arrays with relational operators <, <=, =, !=, >, >= and ~ will result into a boolean array, also termed as a mask. It is used to get or set values in array as logical condition.\n",
    "\n",
    "Here we only show array and scaler comparison, higher dimension comparison follows the broadcasting rules."
   ],
   "id": "f8ea996b63b5ca01"
  },
  {
   "metadata": {},
   "cell_type": "code",
   "outputs": [],
   "execution_count": null,
   "source": [
    "arr1d = np.arange(10)\n",
    "arr1d[arr1d % 2 == 0]       # filter out even numbers\n",
    "arr1d[arr1d % 2 == 0] = -1  # set even numbers to -1"
   ],
   "id": "f935b0c97697c41"
  },
  {
   "metadata": {},
   "cell_type": "markdown",
   "source": [
    "### Fancy indexing\n",
    "Fancy indexing refers to a way to access elements in an array using arrays (or other sequences, e.g. nested lists) as indices, rather than simple slices or integers. It can be used to retrieve arbitrary subsets, not necessarily contiguous, as opposed to slices which return sub-regions. The result is new array an not a view.\n"
   ],
   "id": "e3c93063b7a1e3e6"
  },
  {
   "metadata": {
    "ExecuteTime": {
     "end_time": "2025-03-08T18:39:07.572146Z",
     "start_time": "2025-03-08T18:39:07.568770Z"
    }
   },
   "cell_type": "code",
   "source": [
    "arr = np.array([[10, 20, 30, 40],\n",
    "                [50, 60, 70, 80],\n",
    "                [90, 100, 110, 120]])\n",
    "\n",
    "arr[[0, 2, 1], [0, 2, 1]]"
   ],
   "id": "b54c3de1c533951e",
   "outputs": [
    {
     "data": {
      "text/plain": [
       "array([ 10, 110,  60])"
      ]
     },
     "execution_count": 5,
     "metadata": {},
     "output_type": "execute_result"
    }
   ],
   "execution_count": 5
  },
  {
   "metadata": {},
   "cell_type": "markdown",
   "source": "Broadcasting is applied If shape of the indices do not match:",
   "id": "20594523529a67d"
  },
  {
   "metadata": {},
   "cell_type": "markdown",
   "source": [
    "## Combine arrays\n",
    "\n",
    "Combining array is carried out based on the axes and on the number of dimensions and/or shapes. NumPy provides several functions for this purpose.\n",
    "\n",
    "Concatenate function takes a sequence of arrays and produces a combined array with the same number of dimensions but different shape. The following two 1-dimensional arrays:"
   ],
   "id": "681b190a574ff097"
  },
  {
   "metadata": {},
   "cell_type": "code",
   "outputs": [],
   "execution_count": null,
   "source": [
    "arr1 = np.arange(0,5)\n",
    "arr2 = np.arange(5,10)\n",
    "np.concatenate((arr1,arr2))"
   ],
   "id": "5e25552983093e40"
  },
  {
   "metadata": {},
   "cell_type": "markdown",
   "source": "In a 1-dimensional array there is only the axis 0 and the default choice to concatenate. With a 2-dimensional array we have the axes 0 (rows) and 1 (columns). The concatenation succeeds if the dimensions on the axis on which it takes place match.",
   "id": "c6e88553472596a1"
  },
  {
   "metadata": {},
   "cell_type": "code",
   "outputs": [],
   "execution_count": null,
   "source": [
    "arr1 = np.arange(0,8).reshape(4,2)\n",
    "arr2 = np.arange(8,16).reshape(4,2)\n",
    "np.concatenate((arr1, arr2))          # along axis=0 (default) ; alternatively use vstack\n",
    "np.concatenate((arr1, arr2), axis=1)  # along axis=1           ; alternatively use hstack"
   ],
   "id": "f9252f123671156a"
  },
  {
   "metadata": {},
   "cell_type": "markdown",
   "source": [
    "**numpy.stack** function combines arrays in a newly introduced dimension along the given axis (default axis=0):\n",
    "\n"
   ],
   "id": "50491d9af52ddcf7"
  },
  {
   "metadata": {},
   "cell_type": "code",
   "outputs": [],
   "execution_count": null,
   "source": [
    "arr1 = np.arange(0,4).reshape(2,2)\n",
    "arr2 = np.arange(4,8).reshape(2,2)\n",
    "np.stack((arr1, arr2), axis=1)"
   ],
   "id": "ebcfa5ee9bca4f32"
  },
  {
   "metadata": {},
   "cell_type": "markdown",
   "source": [
    "## Numpy API Reference\n",
    "\n",
    "Under the [Mathematical function](https://numpy.org/doc/stable/reference/routines.math.html), [Statistics](https://numpy.org/doc/stable/reference/routines.statistics.html), [Linear algebra](https://numpy.org/doc/stable/reference/routines.linalg.html) sections of [NumPy API Reference](https://numpy.org/doc/stable/reference/index.html) you'll find many useful functions.\n"
   ],
   "id": "b31c784fc65ee6d5"
  },
  {
   "metadata": {},
   "cell_type": "markdown",
   "source": [
    "## Exercises\n",
    "\n",
    "- Create a 1-dimensional array of random integers, range [0,100), of size 20. Test (True or False) whether the array contains any odd integers. Finally, count the number of odd integers.\n",
    "\n",
    "- Summary\n",
    "\n",
    "1. Create a two-dimensional array of random integers over the range [0,100) with shape (8,4).\n",
    "2. Calculate the following summaries on axis=0:\n",
    "\n",
    "    - minimum, maximum, mean and median\n",
    "    - 1st and 3rd quartile.\n",
    "\n",
    "3. Write the function *summary* which takes a 2-dimensional array as input and produces an R like summary as shown below:\n",
    "\n",
    "```\n",
    "       0              1               2               3\n",
    " Min.   :13.0   Min.   :24.00   Min.   :10.00   Min.   :11.00\n",
    " 1st Qu.:42.5   1st Qu.:40.75   1st Qu.:46.00   1st Qu.:26.00\n",
    " Median :67.0   Median :76.50   Median :71.00   Median :34.50\n",
    " Mean   :60.0   Mean   :67.12   Mean   :64.75   Mean   :42.88\n",
    " 3rd Qu.:81.5   3rd Qu.:93.00   3rd Qu.:95.00   3rd Qu.:61.25\n",
    " Max.   :97.0   Max.   :97.00   Max.   :98.00   Max.   :86.00\n",
    "```"
   ],
   "id": "96cd00d570b2ebde"
  },
  {
   "metadata": {},
   "cell_type": "markdown",
   "source": "- Implement the function *mat_mult* which takes two 2-dimensional arrays and produces their product. Compare your results with the NumPy built-in operator '@'. Make sure that the function raises an exception if the matrix dimensions are incompatible.",
   "id": "3348483210e9ada0"
  }
 ],
 "metadata": {
  "kernelspec": {
   "display_name": "Python 3",
   "language": "python",
   "name": "python3"
  },
  "language_info": {
   "codemirror_mode": {
    "name": "ipython",
    "version": 2
   },
   "file_extension": ".py",
   "mimetype": "text/x-python",
   "name": "python",
   "nbconvert_exporter": "python",
   "pygments_lexer": "ipython2",
   "version": "2.7.6"
  }
 },
 "nbformat": 4,
 "nbformat_minor": 5
}
